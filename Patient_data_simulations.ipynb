{
 "cells": [
  {
   "cell_type": "code",
   "execution_count": 4,
   "metadata": {},
   "outputs": [],
   "source": [
    "import pandas as pd\n",
    "import numpy as np\n",
    "import random\n",
    "from datetime import datetime, timedelta"
   ]
  },
  {
   "cell_type": "code",
   "execution_count": 5,
   "metadata": {},
   "outputs": [],
   "source": [
    "def generate_patients(n):\n",
    "    # Generate patient demographics\n",
    "    names = pd.read_csv(\"datagenerator_seed_names.csv\")  # Load a CSV file with names\n",
    "    patients = pd.DataFrame({\n",
    "        \"resourceType\":\"Patient\",\n",
    "        \"patient_id\": np.arange(1, n+1),\n",
    "        \"first_name\": np.random.choice(names[\"first_name\"], size=n),\n",
    "        \"last_name\": np.random.choice(names[\"last_name\"], size=n),\n",
    "        \"gender\": np.random.choice([\"Male\", \"Female\"], size=n),\n",
    "        \"date_of_birth\": pd.to_datetime(np.random.randint(1950, 2023, size=n), format='%Y'),\n",
    "        # Add other fields as needed\n",
    "    })\n",
    "    return patients"
   ]
  },
  {
   "cell_type": "code",
   "execution_count": 6,
   "metadata": {},
   "outputs": [],
   "source": [
    "def generate_patients_address(patients, n_conditions=2):\n",
    "# Generate address\n",
    "    address = pd.read_csv(\"address_seed.csv\")  # Load a CSV file with city,state, country ,list , use\n",
    "    use_list = address[\"use\"].dropna()\n",
    "    line_list = address[\"line\"].dropna()\n",
    "    address_data = []\n",
    "    for patient_id in patients[\"patient_id\"]:\n",
    "        address_count = np.random.randint(0, n_conditions + 1)\n",
    "        for _ in range(address_count):\n",
    "            address_data.append({\n",
    "                \"patient_id\": patient_id,\n",
    "                \"use\" :np.random.choice(use_list),\n",
    "                \"line\":np.random.choice(line_list),\n",
    "                \"city\": np.random.choice(address[\"city_name\"]),\n",
    "                \"state\": np.random.choice(address[\"State_names\"]),\n",
    "                \"country\": np.random.choice(address[\"Country_name\"]),\n",
    "                \"postalCode\":np.random.randint(11111, 55555)\n",
    "                # Add other fields as needed\n",
    "            })\n",
    "    address_df = pd.DataFrame(address_data)\n",
    "    return address_df"
   ]
  },
  {
   "cell_type": "code",
   "execution_count": 7,
   "metadata": {},
   "outputs": [],
   "source": [
    "def generate_patients_org(patients):\n",
    "# Generate organization\n",
    "    org = pd.read_csv(\"datagenerator_seed_names_org.csv\")  \n",
    "    org_data=[]\n",
    "    for patient_id in patients[\"patient_id\"]:\n",
    "            org_data.append({\n",
    "                \"patient_id\": patient_id,\n",
    "                \"reference\": np.random.choice(org[\"OrganizationName\"]),\n",
    "            })\n",
    "    org_df = pd.DataFrame(org_data)\n",
    "    return org_df"
   ]
  },
  {
   "cell_type": "code",
   "execution_count": 9,
   "metadata": {},
   "outputs": [
    {
     "name": "stdout",
     "output_type": "stream",
     "text": [
      "  resourceType  patient_id first_name last_name  gender date_of_birth  \\\n",
      "0      Patient           1       Wren     Allen  Female    2005-01-01   \n",
      "\n",
      "   patient_id      use   line       city    state   country  postalCode  \\\n",
      "0           1  diverse  third  Brussels,  Wyoming  Emirates       18243   \n",
      "\n",
      "   patient_id                  reference  \n",
      "0           1  Onyx Ridge Mining Company  \n"
     ]
    }
   ],
   "source": [
    "num_patients = 1\n",
    "patients = generate_patients(num_patients)\n",
    "address = generate_patients_address(patients, 2)  # Assume each patient has up to 3 conditions\n",
    "org = generate_patients_org(patients) \n",
    "# Combine all data into a single DataFrame\n",
    "patient_FHIR_data = pd.concat([patients, address, org], axis=1)\n",
    "\n",
    "print(patient_FHIR_data)"
   ]
  }
 ],
 "metadata": {
  "kernelspec": {
   "display_name": "Python 3",
   "language": "python",
   "name": "python3"
  },
  "language_info": {
   "codemirror_mode": {
    "name": "ipython",
    "version": 3
   },
   "file_extension": ".py",
   "mimetype": "text/x-python",
   "name": "python",
   "nbconvert_exporter": "python",
   "pygments_lexer": "ipython3",
   "version": "3.10.12"
  }
 },
 "nbformat": 4,
 "nbformat_minor": 2
}
